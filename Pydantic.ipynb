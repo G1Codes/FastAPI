{
 "cells": [
  {
   "cell_type": "code",
   "execution_count": 1,
   "id": "68198f2f",
   "metadata": {},
   "outputs": [],
   "source": [
    "from pydantic import BaseModel\n",
    "\n",
    "class Patient(BaseModel):\n",
    "    name: str\n",
    "    age: int"
   ]
  },
  {
   "cell_type": "code",
   "execution_count": 3,
   "id": "07ebf394",
   "metadata": {},
   "outputs": [],
   "source": [
    "data = {\n",
    "    'name': 'Randy',\n",
    "    'age': 45\n",
    "}\n",
    "\n",
    "obj1 = Patient(**data)"
   ]
  },
  {
   "cell_type": "code",
   "execution_count": 4,
   "id": "c6d38419",
   "metadata": {},
   "outputs": [
    {
     "data": {
      "text/plain": [
       "'Randy'"
      ]
     },
     "execution_count": 4,
     "metadata": {},
     "output_type": "execute_result"
    }
   ],
   "source": [
    "obj1.name"
   ]
  },
  {
   "cell_type": "code",
   "execution_count": 8,
   "id": "b14e777e",
   "metadata": {},
   "outputs": [],
   "source": [
    "name = 'paul'\n",
    "age = 55\n",
    "obj2= Patient(name=name, age=age)"
   ]
  },
  {
   "cell_type": "code",
   "execution_count": 10,
   "id": "e50e2403",
   "metadata": {},
   "outputs": [
    {
     "data": {
      "text/plain": [
       "55"
      ]
     },
     "execution_count": 10,
     "metadata": {},
     "output_type": "execute_result"
    }
   ],
   "source": [
    "obj2.age"
   ]
  },
  {
   "cell_type": "code",
   "execution_count": 11,
   "id": "a2f281f6",
   "metadata": {},
   "outputs": [],
   "source": [
    "def insert_data(patient: Patient):\n",
    "    print(patient.name)\n",
    "    print(patient.age)"
   ]
  },
  {
   "cell_type": "markdown",
   "id": "6f9e23b1",
   "metadata": {},
   "source": [
    "### Advanced Type validation"
   ]
  },
  {
   "cell_type": "code",
   "execution_count": null,
   "id": "45a25f7c",
   "metadata": {},
   "outputs": [],
   "source": [
    "from typing import List, Dict\n",
    "from pydantic import BaseModel\n",
    "\n",
    "class Temp(BaseModel):\n",
    "    name: str\n",
    "    allengies: List [str]\n",
    "    contact: Dict[str, str]"
   ]
  },
  {
   "cell_type": "markdown",
   "id": "d15567c1",
   "metadata": {},
   "source": [
    "## Optional Fields"
   ]
  },
  {
   "cell_type": "code",
   "execution_count": null,
   "id": "e15a13c6",
   "metadata": {},
   "outputs": [
    {
     "data": {
      "text/plain": [
       "Patient(name='MJF', allengies=213, contact={'phone': '6546351'})"
      ]
     },
     "execution_count": 7,
     "metadata": {},
     "output_type": "execute_result"
    }
   ],
   "source": [
    "from pydantic import BaseModel\n",
    "from typing import List, Dict, Optional\n",
    "\n",
    "class Patient(BaseModel):\n",
    "    name: str\n",
    "    allengies: Optional[List [str]] = None\n",
    "    contact: Dict[str, str]\n",
    "\n",
    "info= {\"name\": \"MJF\", \"contact\": {\"phone\": \"6546351\"}}\n",
    "\n",
    "patient1= Patient(**info)\n",
    "patient1"
   ]
  },
  {
   "cell_type": "markdown",
   "id": "68cc2509",
   "metadata": {},
   "source": [
    "# Data Validation"
   ]
  },
  {
   "cell_type": "code",
   "execution_count": null,
   "id": "6571f585",
   "metadata": {},
   "outputs": [
    {
     "data": {
      "text/plain": [
       "Patient(name='randy', allengies=None, email='rko@wwe.com')"
      ]
     },
     "execution_count": 19,
     "metadata": {},
     "output_type": "execute_result"
    }
   ],
   "source": [
    "# EMAIL\n",
    "\n",
    "from pydantic import BaseModel, EmailStr\n",
    "from typing import List, Dict, Optional\n",
    "\n",
    "class Patient(BaseModel):\n",
    "    name: str\n",
    "    allengies: Optional[List [str]] = None\n",
    "    email: EmailStr\n",
    "    \n",
    "info= {\"name\": \"randy\", \"email\": \"rko@wwe.com\"}\n",
    "\n",
    "patient1= Patient(**info)\n",
    "patient1"
   ]
  },
  {
   "cell_type": "code",
   "execution_count": null,
   "id": "2ddc607f",
   "metadata": {},
   "outputs": [
    {
     "data": {
      "text/plain": [
       "Patient(name='randy', allengies=None, url=AnyUrl('https://www.wwe.com/'))"
      ]
     },
     "execution_count": 18,
     "metadata": {},
     "output_type": "execute_result"
    }
   ],
   "source": [
    "# URL\n",
    "\n",
    "from pydantic import BaseModel, EmailStr, AnyUrl\n",
    "from typing import List, Dict, Optional\n",
    "\n",
    "class Patient(BaseModel):\n",
    "    name: str\n",
    "    allengies: Optional[List [str]] = None\n",
    "    url: AnyUrl\n",
    "    \n",
    "info= {\"name\": \"randy\", \"url\": \"https://www.wwe.com\"}\n",
    "\n",
    "patient1= Patient(**info)\n",
    "patient1"
   ]
  },
  {
   "cell_type": "code",
   "execution_count": null,
   "id": "b7365798",
   "metadata": {},
   "outputs": [
    {
     "data": {
      "text/plain": [
       "Patient(name='randy', age=52)"
      ]
     },
     "execution_count": 17,
     "metadata": {},
     "output_type": "execute_result"
    }
   ],
   "source": [
    "# AGE VALIDATION\n",
    "\n",
    "from pydantic import BaseModel, EmailStr, AnyUrl, Field\n",
    "from typing import List, Dict, Optional\n",
    "\n",
    "class Patient(BaseModel):\n",
    "    name: str =Field(max_length=50)\n",
    "    age: int = Field(gt=0, lt=100)\n",
    "    \n",
    "info= {\"name\": \"randy\", \"age\": 52}\n",
    "\n",
    "patient1= Patient(**info)\n",
    "patient1"
   ]
  },
  {
   "cell_type": "markdown",
   "id": "062ce1b0",
   "metadata": {},
   "source": [
    "### Attach Metadata using Field"
   ]
  },
  {
   "cell_type": "code",
   "execution_count": null,
   "id": "56376350",
   "metadata": {},
   "outputs": [
    {
     "data": {
      "text/plain": [
       "Patient(name='randy', age=52)"
      ]
     },
     "execution_count": 29,
     "metadata": {},
     "output_type": "execute_result"
    }
   ],
   "source": [
    "# Attach Metadata using Field\n",
    "\n",
    "from pydantic import BaseModel, EmailStr, AnyUrl, Field\n",
    "from typing import List, Dict, Optional, Annotated\n",
    "\n",
    "class Patient(BaseModel):\n",
    "    name: Annotated [str, Field(max_length=50, title=\"Name of the patient\", description= \"Provide name of the patient\", examples= [\"Mat\", \"Jon\"], default= \"asldfikg\")]\n",
    "    age: int = Field(gt=0, lt=100)\n",
    "    \n",
    "info= {\"name\": \"randy\", \"age\": 52}\n",
    "\n",
    "patient1= Patient(**info)\n",
    "patient1"
   ]
  },
  {
   "cell_type": "code",
   "execution_count": 32,
   "id": "1a54f908",
   "metadata": {},
   "outputs": [
    {
     "data": {
      "text/plain": [
       "Patient(name='randy', age=45)"
      ]
     },
     "execution_count": 32,
     "metadata": {},
     "output_type": "execute_result"
    }
   ],
   "source": [
    "# Suppress Type Coercing\n",
    "\n",
    "from pydantic import BaseModel, EmailStr, AnyUrl, Field\n",
    "from typing import List, Dict, Optional, Annotated\n",
    "\n",
    "class Patient(BaseModel):\n",
    "    name: Annotated [str, Field(max_length=50)]\n",
    "    age: Annotated [int, Field(gt=0, lt=100, strict=True)]\n",
    "    \n",
    "info= {\"name\": \"randy\", \"age\": 45}\n",
    "\n",
    "patient1= Patient(**info)\n",
    "patient1"
   ]
  },
  {
   "cell_type": "markdown",
   "id": "a175bfa8",
   "metadata": {},
   "source": [
    "# Field Validator"
   ]
  },
  {
   "cell_type": "markdown",
   "id": "5e606a03",
   "metadata": {},
   "source": [
    "#### Check the email domain → hdfc.com"
   ]
  },
  {
   "cell_type": "code",
   "execution_count": 48,
   "id": "4f4e06a4",
   "metadata": {},
   "outputs": [
    {
     "data": {
      "text/plain": [
       "Patient(name='randy', age=45, email='rko@hdfc.com')"
      ]
     },
     "execution_count": 48,
     "metadata": {},
     "output_type": "execute_result"
    }
   ],
   "source": [
    "# Field Validator- Check email domain\n",
    "\n",
    "from pydantic import BaseModel, EmailStr, AnyUrl, Field, field_validator\n",
    "from typing import List, Dict, Optional, Annotated\n",
    "\n",
    "class Patient(BaseModel):\n",
    "    name: str\n",
    "    age: int\n",
    "    email: EmailStr\n",
    "\n",
    "    @field_validator('email')\n",
    "    @classmethod\n",
    "\n",
    "    def email_validator(cls, value):\n",
    "        valid_domains= ['hdfc.com', 'bank.com']\n",
    "        domain_name = value.split('@')[-1]\n",
    "\n",
    "        if domain_name not in valid_domains:\n",
    "            raise ValueError('Not a valid domain')\n",
    "        return value\n",
    "        \n",
    "    \n",
    "info= {\"name\": \"randy\", \"age\": 45, 'email': 'rko@hdfc.com'}\n",
    "\n",
    "patient1= Patient(**info)\n",
    "patient1"
   ]
  },
  {
   "cell_type": "code",
   "execution_count": 49,
   "id": "22408034",
   "metadata": {},
   "outputs": [
    {
     "data": {
      "text/plain": [
       "Patient(name='RANDY', age=45, email='rko@hdfc.com')"
      ]
     },
     "execution_count": 49,
     "metadata": {},
     "output_type": "execute_result"
    }
   ],
   "source": [
    "# Field Validator- Capitalize the name\n",
    "\n",
    "from pydantic import BaseModel, EmailStr, AnyUrl, Field, field_validator\n",
    "from typing import List, Dict, Optional, Annotated\n",
    "\n",
    "class Patient(BaseModel):\n",
    "    name: str\n",
    "    age: int\n",
    "    email: EmailStr\n",
    "\n",
    "    @field_validator('email')\n",
    "    @classmethod\n",
    "\n",
    "    def email_validator(cls, value):\n",
    "        valid_domains= ['hdfc.com', 'bank.com']\n",
    "        domain_name = value.split('@')[-1]\n",
    "\n",
    "        if domain_name not in valid_domains:\n",
    "            raise ValueError('Not a valid domain')\n",
    "        return value\n",
    "    \n",
    "    @field_validator('name')\n",
    "    @classmethod\n",
    "\n",
    "    def captitalize(cls, value):\n",
    "        return value.upper()\n",
    "    \n",
    "info= {\"name\": \"randy\", \"age\": 45, 'email': 'rko@hdfc.com'}\n",
    "\n",
    "patient1= Patient(**info)\n",
    "patient1"
   ]
  },
  {
   "cell_type": "code",
   "execution_count": null,
   "id": "0f34e8a3",
   "metadata": {},
   "outputs": [
    {
     "data": {
      "text/plain": [
       "Patient(name='Randy', age=45, email='rko@hdfc.com')"
      ]
     },
     "execution_count": 55,
     "metadata": {},
     "output_type": "execute_result"
    }
   ],
   "source": [
    "# Field Validator- Capitalize the name\n",
    "\n",
    "from pydantic import BaseModel, EmailStr, AnyUrl, Field, field_validator\n",
    "from typing import List, Dict, Optional, Annotated\n",
    "\n",
    "class Patient(BaseModel):\n",
    "    name: str\n",
    "    age: int\n",
    "    email: EmailStr\n",
    "\n",
    "    @field_validator('email')\n",
    "    @classmethod\n",
    "\n",
    "    def email_validator(cls, value):\n",
    "        valid_domains= ['hdfc.com', 'bank.com']\n",
    "        domain_name = value.split('@')[-1]\n",
    "\n",
    "        if domain_name not in valid_domains:\n",
    "            raise ValueError('Not a valid domain')\n",
    "        return value\n",
    "    \n",
    "    @field_validator('name')\n",
    "    @classmethod\n",
    "\n",
    "    def captitalize(cls, value):\n",
    "        return value.capitalize()\n",
    "    \n",
    "info= {\"name\": \"randy\", \"age\": 45, 'email': 'rko@hdfc.com'}\n",
    "\n",
    "patient1= Patient(**info)\n",
    "patient1"
   ]
  },
  {
   "cell_type": "markdown",
   "id": "f223f725",
   "metadata": {},
   "source": [
    "# Model Validator"
   ]
  },
  {
   "cell_type": "code",
   "execution_count": 88,
   "id": "1994a107",
   "metadata": {},
   "outputs": [
    {
     "data": {
      "text/plain": [
       "Patient(name='randy', age=30, contact={'phone': '654654'})"
      ]
     },
     "execution_count": 88,
     "metadata": {},
     "output_type": "execute_result"
    }
   ],
   "source": [
    "# Model validator- Check emergency contact\n",
    "\n",
    "from pydantic import BaseModel, model_validator\n",
    "from typing import Dict\n",
    "\n",
    "class Patient (BaseModel):\n",
    "    name: str\n",
    "    age: int\n",
    "    contact: Dict[str, str]\n",
    "\n",
    "    @model_validator(mode='after')\n",
    "    def validate_emergency_contact(cls, model):\n",
    "        if model.age >60 and 'emergency' not  in model.contact:\n",
    "                raise ValueError\n",
    "        return model\n",
    "\n",
    "info= {\"name\": \"randy\", \"age\": 30, 'contact': {'phone': '654654'} }\n",
    "\n",
    "patient1 = Patient(**info)\n",
    "patient1\n"
   ]
  },
  {
   "cell_type": "code",
   "execution_count": null,
   "id": "cede88cb",
   "metadata": {},
   "outputs": [
    {
     "ename": "ValidationError",
     "evalue": "1 validation error for Patient\n  Value error,  [type=value_error, input_value={'name': 'randy', 'age': ...t': {'phone': '654654'}}, input_type=dict]\n    For further information visit https://errors.pydantic.dev/2.11/v/value_error",
     "output_type": "error",
     "traceback": [
      "\u001b[1;31m---------------------------------------------------------------------------\u001b[0m",
      "\u001b[1;31mValidationError\u001b[0m                           Traceback (most recent call last)",
      "Cell \u001b[1;32mIn[87], line 19\u001b[0m\n\u001b[0;32m     15\u001b[0m         \u001b[38;5;28;01mreturn\u001b[39;00m model\n\u001b[0;32m     17\u001b[0m info\u001b[38;5;241m=\u001b[39m {\u001b[38;5;124m\"\u001b[39m\u001b[38;5;124mname\u001b[39m\u001b[38;5;124m\"\u001b[39m: \u001b[38;5;124m\"\u001b[39m\u001b[38;5;124mrandy\u001b[39m\u001b[38;5;124m\"\u001b[39m, \u001b[38;5;124m\"\u001b[39m\u001b[38;5;124mage\u001b[39m\u001b[38;5;124m\"\u001b[39m: \u001b[38;5;241m62\u001b[39m, \u001b[38;5;124m'\u001b[39m\u001b[38;5;124mcontact\u001b[39m\u001b[38;5;124m'\u001b[39m: {\u001b[38;5;124m'\u001b[39m\u001b[38;5;124mphone\u001b[39m\u001b[38;5;124m'\u001b[39m: \u001b[38;5;124m'\u001b[39m\u001b[38;5;124m654654\u001b[39m\u001b[38;5;124m'\u001b[39m} }\n\u001b[1;32m---> 19\u001b[0m patient1 \u001b[38;5;241m=\u001b[39m Patient(\u001b[38;5;241m*\u001b[39m\u001b[38;5;241m*\u001b[39minfo)\n\u001b[0;32m     20\u001b[0m patient1\n",
      "File \u001b[1;32md:\\Python_Env\\LangChain\\venv\\lib\\site-packages\\pydantic\\main.py:253\u001b[0m, in \u001b[0;36mBaseModel.__init__\u001b[1;34m(self, **data)\u001b[0m\n\u001b[0;32m    251\u001b[0m \u001b[38;5;66;03m# `__tracebackhide__` tells pytest and some other tools to omit this function from tracebacks\u001b[39;00m\n\u001b[0;32m    252\u001b[0m __tracebackhide__ \u001b[38;5;241m=\u001b[39m \u001b[38;5;28;01mTrue\u001b[39;00m\n\u001b[1;32m--> 253\u001b[0m validated_self \u001b[38;5;241m=\u001b[39m \u001b[38;5;28;43mself\u001b[39;49m\u001b[38;5;241;43m.\u001b[39;49m\u001b[43m__pydantic_validator__\u001b[49m\u001b[38;5;241;43m.\u001b[39;49m\u001b[43mvalidate_python\u001b[49m\u001b[43m(\u001b[49m\u001b[43mdata\u001b[49m\u001b[43m,\u001b[49m\u001b[43m \u001b[49m\u001b[43mself_instance\u001b[49m\u001b[38;5;241;43m=\u001b[39;49m\u001b[38;5;28;43mself\u001b[39;49m\u001b[43m)\u001b[49m\n\u001b[0;32m    254\u001b[0m \u001b[38;5;28;01mif\u001b[39;00m \u001b[38;5;28mself\u001b[39m \u001b[38;5;129;01mis\u001b[39;00m \u001b[38;5;129;01mnot\u001b[39;00m validated_self:\n\u001b[0;32m    255\u001b[0m     warnings\u001b[38;5;241m.\u001b[39mwarn(\n\u001b[0;32m    256\u001b[0m         \u001b[38;5;124m'\u001b[39m\u001b[38;5;124mA custom validator is returning a value other than `self`.\u001b[39m\u001b[38;5;130;01m\\n\u001b[39;00m\u001b[38;5;124m'\u001b[39m\n\u001b[0;32m    257\u001b[0m         \u001b[38;5;124m\"\u001b[39m\u001b[38;5;124mReturning anything other than `self` from a top level model validator isn\u001b[39m\u001b[38;5;124m'\u001b[39m\u001b[38;5;124mt supported when validating via `__init__`.\u001b[39m\u001b[38;5;130;01m\\n\u001b[39;00m\u001b[38;5;124m\"\u001b[39m\n\u001b[0;32m    258\u001b[0m         \u001b[38;5;124m'\u001b[39m\u001b[38;5;124mSee the `model_validator` docs (https://docs.pydantic.dev/latest/concepts/validators/#model-validators) for more details.\u001b[39m\u001b[38;5;124m'\u001b[39m,\n\u001b[0;32m    259\u001b[0m         stacklevel\u001b[38;5;241m=\u001b[39m\u001b[38;5;241m2\u001b[39m,\n\u001b[0;32m    260\u001b[0m     )\n",
      "\u001b[1;31mValidationError\u001b[0m: 1 validation error for Patient\n  Value error,  [type=value_error, input_value={'name': 'randy', 'age': ...t': {'phone': '654654'}}, input_type=dict]\n    For further information visit https://errors.pydantic.dev/2.11/v/value_error"
     ]
    }
   ],
   "source": [
    "# Model validator- Check emergency contact\n",
    "\n",
    "from pydantic import BaseModel, model_validator\n",
    "from typing import Dict\n",
    "\n",
    "class Patient (BaseModel):\n",
    "    name: str\n",
    "    age: int\n",
    "    contact: Dict[str, str]\n",
    "\n",
    "    @model_validator(mode='after')\n",
    "    def validate_emergency_contact(cls, model):\n",
    "        if model.age >60 and 'emergency' not  in model.contact:\n",
    "                raise ValueError\n",
    "        return model\n",
    "\n",
    "info= {\"name\": \"randy\", \"age\": 62, 'contact': {'phone': '654654'} }\n",
    "\n",
    "patient1 = Patient(**info)\n",
    "patient1\n"
   ]
  },
  {
   "cell_type": "markdown",
   "id": "fe4b0668",
   "metadata": {},
   "source": [
    "# Computed Field"
   ]
  },
  {
   "cell_type": "code",
   "execution_count": 94,
   "id": "eeab6e10",
   "metadata": {},
   "outputs": [
    {
     "data": {
      "text/plain": [
       "Patient(name='aj', weight=85.0, height=1.72, bmi=28.73)"
      ]
     },
     "execution_count": 94,
     "metadata": {},
     "output_type": "execute_result"
    }
   ],
   "source": [
    "# Calculate BMI\n",
    "\n",
    "from pydantic import BaseModel, model_validator, computed_field\n",
    "\n",
    "class Patient(BaseModel):\n",
    "    name: str\n",
    "    weight: float     #kg\n",
    "    height: float     #meter\n",
    "\n",
    "    @computed_field\n",
    "    @property\n",
    "    def bmi(self) -> float:\n",
    "        bmi= round((self.weight)/(self.height**2),2)\n",
    "        return bmi\n",
    "    \n",
    "info= {\"name\": \"aj\", \"weight\": 85, \"height\": 1.72}\n",
    "\n",
    "patient1 = Patient(**info)\n",
    "patient1"
   ]
  },
  {
   "cell_type": "markdown",
   "id": "a1f5ec81",
   "metadata": {},
   "source": [
    "# Nested Models"
   ]
  },
  {
   "cell_type": "code",
   "execution_count": null,
   "id": "71433c87",
   "metadata": {},
   "outputs": [
    {
     "data": {
      "text/plain": [
       "Patient(name='seth', gender='m', address=Address(city='pune', state='MH', pin=40075))"
      ]
     },
     "execution_count": 99,
     "metadata": {},
     "output_type": "execute_result"
    }
   ],
   "source": [
    "from pydantic import BaseModel\n",
    "\n",
    "class Address(BaseModel):\n",
    "    city: str\n",
    "    state: str\n",
    "    pin: int\n",
    "\n",
    "class Patient(BaseModel):\n",
    "    name: str\n",
    "    gender: str\n",
    "    address: Address\n",
    "\n",
    "address_dict = {'city': 'pune', 'state': 'MH', 'pin': 40075}\n",
    "\n",
    "add1= Address(**address_dict)\n",
    "patient_dict = {'name': 'seth', 'gender': 'm', 'address': add1}\n",
    "\n",
    "patient1= Patient(**patient_dict)\n",
    "patient1"
   ]
  },
  {
   "cell_type": "code",
   "execution_count": 101,
   "id": "be99a1e0",
   "metadata": {},
   "outputs": [
    {
     "data": {
      "text/plain": [
       "40075"
      ]
     },
     "execution_count": 101,
     "metadata": {},
     "output_type": "execute_result"
    }
   ],
   "source": [
    "patient1.address.pin"
   ]
  },
  {
   "cell_type": "markdown",
   "id": "2219d72f",
   "metadata": {},
   "source": [
    "# Export Pydantic models as Dict or JSON:"
   ]
  },
  {
   "cell_type": "code",
   "execution_count": null,
   "id": "d6fce802",
   "metadata": {},
   "outputs": [
    {
     "data": {
      "text/plain": [
       "{'name': 'seth',\n",
       " 'gender': 'm',\n",
       " 'address': {'city': 'pune', 'state': 'MH', 'pin': 40075}}"
      ]
     },
     "execution_count": 106,
     "metadata": {},
     "output_type": "execute_result"
    }
   ],
   "source": [
    "# Model -> Dictionary\n",
    "\n",
    "from pydantic import BaseModel\n",
    "\n",
    "class Address(BaseModel):\n",
    "    city: str\n",
    "    state: str\n",
    "    pin: int\n",
    "\n",
    "class Patient(BaseModel):\n",
    "    name: str\n",
    "    gender: str\n",
    "    address: Address\n",
    "\n",
    "address_dict = {'city': 'pune', 'state': 'MH', 'pin': 40075}\n",
    "\n",
    "add1= Address(**address_dict)\n",
    "patient_dict = {'name': 'seth', 'gender': 'm', 'address': add1}\n",
    "\n",
    "patient1= Patient(**patient_dict)\n",
    "patient1\n",
    "\n",
    "temp= patient1.model_dump()\n",
    "temp"
   ]
  },
  {
   "cell_type": "code",
   "execution_count": 107,
   "id": "3d8180f4",
   "metadata": {},
   "outputs": [
    {
     "data": {
      "text/plain": [
       "'{\"name\":\"seth\",\"gender\":\"m\",\"address\":{\"city\":\"pune\",\"state\":\"MH\",\"pin\":40075}}'"
      ]
     },
     "execution_count": 107,
     "metadata": {},
     "output_type": "execute_result"
    }
   ],
   "source": [
    "# Model -> JSON\n",
    "\n",
    "from pydantic import BaseModel\n",
    "\n",
    "class Address(BaseModel):\n",
    "    city: str\n",
    "    state: str\n",
    "    pin: int\n",
    "\n",
    "class Patient(BaseModel):\n",
    "    name: str\n",
    "    gender: str\n",
    "    address: Address\n",
    "\n",
    "address_dict = {'city': 'pune', 'state': 'MH', 'pin': 40075}\n",
    "\n",
    "add1= Address(**address_dict)\n",
    "patient_dict = {'name': 'seth', 'gender': 'm', 'address': add1}\n",
    "\n",
    "patient1= Patient(**patient_dict)\n",
    "patient1\n",
    "\n",
    "temp= patient1.model_dump_json()\n",
    "temp"
   ]
  },
  {
   "cell_type": "markdown",
   "id": "abc6b15f",
   "metadata": {},
   "source": [
    "### Chose specific fields to export:"
   ]
  },
  {
   "cell_type": "code",
   "execution_count": 113,
   "id": "31bed1c3",
   "metadata": {},
   "outputs": [
    {
     "data": {
      "text/plain": [
       "{'name': 'seth', 'gender': 'm'}"
      ]
     },
     "execution_count": 113,
     "metadata": {},
     "output_type": "execute_result"
    }
   ],
   "source": [
    "patient1.model_dump(include=['name', 'gender'])"
   ]
  },
  {
   "cell_type": "code",
   "execution_count": 114,
   "id": "fda7f4d7",
   "metadata": {},
   "outputs": [
    {
     "data": {
      "text/plain": [
       "{'address': {'city': 'pune', 'state': 'MH', 'pin': 40075}}"
      ]
     },
     "execution_count": 114,
     "metadata": {},
     "output_type": "execute_result"
    }
   ],
   "source": [
    "patient1.model_dump(exclude=['name', 'gender'])"
   ]
  },
  {
   "cell_type": "code",
   "execution_count": 116,
   "id": "c0c17f10",
   "metadata": {},
   "outputs": [
    {
     "data": {
      "text/plain": [
       "{'name': 'seth', 'gender': 'm', 'address': {'city': 'pune', 'pin': 40075}}"
      ]
     },
     "execution_count": 116,
     "metadata": {},
     "output_type": "execute_result"
    }
   ],
   "source": [
    "patient1.model_dump(exclude={'address': ['state']})"
   ]
  },
  {
   "cell_type": "markdown",
   "id": "8009be38",
   "metadata": {},
   "source": [
    "### exclude_unset"
   ]
  },
  {
   "cell_type": "code",
   "execution_count": 119,
   "id": "b3ce2ca4",
   "metadata": {},
   "outputs": [
    {
     "data": {
      "text/plain": [
       "'{\"name\":\"seth\",\"gender\":\"m\",\"address\":{\"city\":\"pune\",\"pin\":40075}}'"
      ]
     },
     "execution_count": 119,
     "metadata": {},
     "output_type": "execute_result"
    }
   ],
   "source": [
    "from pydantic import BaseModel\n",
    "\n",
    "class Address(BaseModel):\n",
    "    city: str\n",
    "    state: str ='Maharashtra' # default\n",
    "    pin: int\n",
    "\n",
    "class Patient(BaseModel):\n",
    "    name: str\n",
    "    gender: str\n",
    "    address: Address\n",
    "\n",
    "address_dict = {'city': 'pune', 'pin': 40075}\n",
    "\n",
    "add1= Address(**address_dict)\n",
    "patient_dict = {'name': 'seth', 'gender': 'm', 'address': add1}\n",
    "\n",
    "patient1= Patient(**patient_dict)\n",
    "patient1\n",
    "\n",
    "temp= patient1.model_dump_json(exclude_unset=True)\n",
    "temp"
   ]
  },
  {
   "cell_type": "code",
   "execution_count": null,
   "id": "3a1cdb6f",
   "metadata": {},
   "outputs": [],
   "source": []
  }
 ],
 "metadata": {
  "kernelspec": {
   "display_name": "Python 3",
   "language": "python",
   "name": "python3"
  },
  "language_info": {
   "codemirror_mode": {
    "name": "ipython",
    "version": 3
   },
   "file_extension": ".py",
   "mimetype": "text/x-python",
   "name": "python",
   "nbconvert_exporter": "python",
   "pygments_lexer": "ipython3",
   "version": "3.10.16"
  }
 },
 "nbformat": 4,
 "nbformat_minor": 5
}
