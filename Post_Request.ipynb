{
 "cells": [
  {
   "cell_type": "markdown",
   "id": "9a130137",
   "metadata": {},
   "source": [
    "# Create Endpointm"
   ]
  },
  {
   "cell_type": "code",
   "execution_count": 10,
   "id": "18d0c7d0",
   "metadata": {},
   "outputs": [],
   "source": [
    "from fastapi import FastAPI, Path, HTTPException, Query\n",
    "from pydantic import BaseModel, Field, computed_field\n",
    "from typing import Annotated, Literal\n",
    "\n",
    "import json\n",
    "\n",
    "app = FastAPI()"
   ]
  },
  {
   "cell_type": "code",
   "execution_count": 12,
   "id": "5b79ebb4",
   "metadata": {},
   "outputs": [],
   "source": [
    "class Patient(BaseModel):\n",
    "    id: Annotated[str, Field(..., description= \"ID of the patient\", examples= ['P001'])]\n",
    "    name: Annotated[str, Field(..., description= \"Name of the patient\")]\n",
    "    city: Annotated[str, Field(..., description=\"City of patient\")]\n",
    "    gender: Annotated [Literal['male', 'female', 'other'], Field(..., description= \"Gneder of patient\")]\n",
    "    age: Annotated[int, Field(..., gt=0, lt=120, description= \"Age of the patient\")]\n",
    "    height: Annotated[float, Field(..., gt=0, description= \"Height of the patient in meters\")]\n",
    "    weight: Annotated[float, Field(..., gt=0, description= \"Weight of the patient in kgs\")]\n",
    "\n",
    "    ### Calculate BMI & Verdict, we will use computed field\n",
    "\n",
    "    @computed_field\n",
    "    @property\n",
    "    def bmi(self) -> float:\n",
    "        bmi = bmi= round((self.weight)/(self.height**2),2)\n",
    "        return bmi\n",
    "    \n",
    "    @computed_field\n",
    "    @property\n",
    "    def verdict(self) -> str:\n",
    "        if self.bmi < 18.5:\n",
    "            return 'Underweight'\n",
    "        elif self.bmi < 25:\n",
    "            return 'Normal'\n",
    "        elif self.bmi < 30:\n",
    "            return 'Normal'\n",
    "        else:\n",
    "            return 'Obese'"
   ]
  },
  {
   "cell_type": "markdown",
   "id": "9a9cd974",
   "metadata": {},
   "source": [
    "## Create endpoint"
   ]
  },
  {
   "cell_type": "code",
   "execution_count": 13,
   "id": "8737d65c",
   "metadata": {},
   "outputs": [],
   "source": [
    "@app.post('/create')\n",
    "def create_patient(patient:Patient):\n",
    "    # Load data\n",
    "    data = load_data()\n",
    "\n",
    "    # Check if patient ID already exists\n",
    "    if patient.id in data:\n",
    "        \n",
    "        raise HTTPException (status_code=400, detail=\"PATIENT ALREADY EXISTS\")\n",
    "\n",
    "    # Add entry to dict\n",
    "    data[patient.id]= patient.model_dump(exclude=['id'])\n"
   ]
  },
  {
   "cell_type": "markdown",
   "id": "2b78ea7d",
   "metadata": {},
   "source": [
    "# Dictionary → JSON:"
   ]
  },
  {
   "cell_type": "code",
   "execution_count": null,
   "id": "8aa23ae4",
   "metadata": {},
   "outputs": [],
   "source": [
    "def save_data(data):\n",
    "    with open(r\"D:\\Python_Env\\LangChain\\FastAPI\\patients.json\", \"w\") as f:\n",
    "        data = json.dump(data, f)"
   ]
  },
  {
   "cell_type": "markdown",
   "id": "3657123f",
   "metadata": {},
   "source": [
    "### Tell the client that patient has been created:"
   ]
  },
  {
   "cell_type": "code",
   "execution_count": null,
   "id": "a2866c15",
   "metadata": {},
   "outputs": [],
   "source": [
    "from fastapi.responses import JSONResponse\n",
    "\n",
    "return JSONResponse(status_code=201, content= {\"message\": \"Patient created successfully\"})"
   ]
  },
  {
   "cell_type": "code",
   "execution_count": null,
   "id": "a18b0c83",
   "metadata": {},
   "outputs": [],
   "source": []
  },
  {
   "cell_type": "code",
   "execution_count": null,
   "id": "bf52d69a",
   "metadata": {},
   "outputs": [],
   "source": []
  },
  {
   "cell_type": "code",
   "execution_count": null,
   "id": "9c6f7716",
   "metadata": {},
   "outputs": [],
   "source": []
  },
  {
   "cell_type": "code",
   "execution_count": null,
   "id": "e6ea9e00",
   "metadata": {},
   "outputs": [],
   "source": []
  },
  {
   "cell_type": "code",
   "execution_count": null,
   "id": "fea2ec82",
   "metadata": {},
   "outputs": [],
   "source": []
  },
  {
   "cell_type": "code",
   "execution_count": null,
   "id": "907fb419",
   "metadata": {},
   "outputs": [],
   "source": []
  },
  {
   "cell_type": "code",
   "execution_count": null,
   "id": "19619f2a",
   "metadata": {},
   "outputs": [],
   "source": []
  },
  {
   "cell_type": "code",
   "execution_count": null,
   "id": "82308db0",
   "metadata": {},
   "outputs": [],
   "source": []
  },
  {
   "cell_type": "code",
   "execution_count": null,
   "id": "783b721a",
   "metadata": {},
   "outputs": [],
   "source": []
  },
  {
   "cell_type": "code",
   "execution_count": null,
   "id": "0a5c7765",
   "metadata": {},
   "outputs": [],
   "source": []
  },
  {
   "cell_type": "code",
   "execution_count": null,
   "id": "36ee915a",
   "metadata": {},
   "outputs": [],
   "source": []
  },
  {
   "cell_type": "code",
   "execution_count": null,
   "id": "d883afba",
   "metadata": {},
   "outputs": [],
   "source": []
  },
  {
   "cell_type": "code",
   "execution_count": null,
   "id": "740e01f2",
   "metadata": {},
   "outputs": [],
   "source": []
  },
  {
   "cell_type": "code",
   "execution_count": null,
   "id": "af91b1e1",
   "metadata": {},
   "outputs": [],
   "source": []
  },
  {
   "cell_type": "code",
   "execution_count": null,
   "id": "2fb9dce7",
   "metadata": {},
   "outputs": [],
   "source": []
  },
  {
   "cell_type": "code",
   "execution_count": null,
   "id": "92442ea2",
   "metadata": {},
   "outputs": [],
   "source": []
  },
  {
   "cell_type": "code",
   "execution_count": null,
   "id": "d58ee073",
   "metadata": {},
   "outputs": [],
   "source": []
  }
 ],
 "metadata": {
  "kernelspec": {
   "display_name": "Python 3",
   "language": "python",
   "name": "python3"
  },
  "language_info": {
   "codemirror_mode": {
    "name": "ipython",
    "version": 3
   },
   "file_extension": ".py",
   "mimetype": "text/x-python",
   "name": "python",
   "nbconvert_exporter": "python",
   "pygments_lexer": "ipython3",
   "version": "3.10.16"
  }
 },
 "nbformat": 4,
 "nbformat_minor": 5
}
